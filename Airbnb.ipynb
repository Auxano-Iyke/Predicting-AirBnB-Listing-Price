{
 "cells": [
  {
   "cell_type": "code",
   "execution_count": 1,
   "metadata": {},
   "outputs": [
    {
     "name": "stdout",
     "output_type": "stream",
     "text": [
      "id                                                                            7087327\n",
      "listing_url                                      https://www.airbnb.com/rooms/7087327\n",
      "scrape_id                                                              20151002231825\n",
      "last_scraped                                                               2015-10-03\n",
      "name                                               Historic DC Condo-Walk to Capitol!\n",
      "summary                             Professional pictures coming soon! Welcome to ...\n",
      "space                                                                             NaN\n",
      "description                         Professional pictures coming soon! Welcome to ...\n",
      "experiences_offered                                                              none\n",
      "neighborhood_overview                                                             NaN\n",
      "notes                                                                             NaN\n",
      "transit                                                                           NaN\n",
      "thumbnail_url                       https://a2.muscache.com/ac/pictures/105507202/...\n",
      "medium_url                          https://a2.muscache.com/im/pictures/105507202/...\n",
      "picture_url                         https://a2.muscache.com/ac/pictures/105507202/...\n",
      "xl_picture_url                      https://a2.muscache.com/ac/pictures/105507202/...\n",
      "host_id                                                                      15830506\n",
      "host_url                                   https://www.airbnb.com/users/show/15830506\n",
      "host_name                                                                 Lize & Greg\n",
      "host_since                                                                 2014-05-21\n",
      "host_location                         Washington, District of Columbia, United States\n",
      "host_about                          We are two fun, friendly entrepreneurs living ...\n",
      "host_response_time                                                 within a few hours\n",
      "host_response_rate                                                                92%\n",
      "host_acceptance_rate                                                              91%\n",
      "host_is_superhost                                                                   f\n",
      "host_thumbnail_url                  https://a1.muscache.com/ac/users/15830506/prof...\n",
      "host_picture_url                    https://a1.muscache.com/ac/users/15830506/prof...\n",
      "host_neighbourhood                                                     Truxton Circle\n",
      "host_listings_count                                                                26\n",
      "                                                          ...                        \n",
      "guests_included                                                                     1\n",
      "extra_people                                                                    $0.00\n",
      "minimum_nights                                                                      1\n",
      "maximum_nights                                                                   1125\n",
      "calendar_updated                                                                today\n",
      "has_availability                                                                    t\n",
      "availability_30                                                                     0\n",
      "availability_60                                                                     0\n",
      "availability_90                                                                     8\n",
      "availability_365                                                                  283\n",
      "calendar_last_scraped                                                      2015-10-02\n",
      "number_of_reviews                                                                   0\n",
      "first_review                                                                      NaN\n",
      "last_review                                                                       NaN\n",
      "review_scores_rating                                                              NaN\n",
      "review_scores_accuracy                                                            NaN\n",
      "review_scores_cleanliness                                                         NaN\n",
      "review_scores_checkin                                                             NaN\n",
      "review_scores_communication                                                       NaN\n",
      "review_scores_location                                                            NaN\n",
      "review_scores_value                                                               NaN\n",
      "requires_license                                                                    f\n",
      "license                                                                           NaN\n",
      "jurisdiction_names                                   DISTRICT OF COLUMBIA, WASHINGTON\n",
      "instant_bookable                                                                    f\n",
      "cancellation_policy                                                          flexible\n",
      "require_guest_profile_picture                                                       f\n",
      "require_guest_phone_verification                                                    f\n",
      "calculated_host_listings_count                                                     18\n",
      "reviews_per_month                                                                 NaN\n",
      "Name: 0, Length: 92, dtype: object\n"
     ]
    }
   ],
   "source": [
    "# Importing and viwing the dataset\n",
    "import pandas as pd \n",
    "listings = pd.read_csv('listings.csv')\n",
    "print(listings.iloc[0])"
   ]
  },
  {
   "cell_type": "code",
   "execution_count": 2,
   "metadata": {},
   "outputs": [
    {
     "name": "stdout",
     "output_type": "stream",
     "text": [
      "1\n"
     ]
    }
   ],
   "source": [
    "# Calculating Euclidean distance for a univariate case.using the first living space in the dataset\n",
    "# the living space we want to rent out accomodates 3 people.\n",
    "\n",
    "import numpy as np\n",
    "our_acc_value = 3\n",
    "first_living_space_value = listings.iloc[0]['accommodates']\n",
    "first_distance = np.abs(first_living_space_value - our_acc_value) # np.abs() makes the values absolute.\n",
    "print(first_distance)"
   ]
  },
  {
   "cell_type": "code",
   "execution_count": 3,
   "metadata": {},
   "outputs": [
    {
     "name": "stdout",
     "output_type": "stream",
     "text": [
      "1     2294\n",
      "2      503\n",
      "0      461\n",
      "3      279\n",
      "5       73\n",
      "4       35\n",
      "7       22\n",
      "6       17\n",
      "9       12\n",
      "13       8\n",
      "8        7\n",
      "12       6\n",
      "11       4\n",
      "10       2\n",
      "Name: distance, dtype: int64\n"
     ]
    }
   ],
   "source": [
    "# Calculating the distance btw each value in the accommodates column and the value 3. creating a new column in the dataset called distance.\n",
    "new_listing = 3\n",
    "listings['distance'] = listings['accommodates'].apply(lambda x: np.abs(x-new_listing))\n",
    "print(listings['distance'].value_counts())"
   ]
  },
  {
   "cell_type": "code",
   "execution_count": 4,
   "metadata": {},
   "outputs": [
    {
     "name": "stdout",
     "output_type": "stream",
     "text": [
      "577     $185.00\n",
      "2166    $180.00\n",
      "3631    $175.00\n",
      "71      $128.00\n",
      "1011    $115.00\n",
      "380     $219.00\n",
      "943     $125.00\n",
      "3107    $250.00\n",
      "1499     $94.00\n",
      "625     $150.00\n",
      "Name: price, dtype: object\n"
     ]
    }
   ],
   "source": [
    "# Randomizing the dataset\n",
    "np.random.seed(1)\n",
    "listings = listings.loc[np.random.permutation(len(listings))]\n",
    "listings = listings.sort_values('distance')\n",
    "print(listings.iloc[0:10]['price'])"
   ]
  },
  {
   "cell_type": "code",
   "execution_count": 5,
   "metadata": {},
   "outputs": [
    {
     "name": "stdout",
     "output_type": "stream",
     "text": [
      "156.6\n"
     ]
    }
   ],
   "source": [
    "#Cleaning the price column.removing commas and dollar sign and converting to floats from the price column.\n",
    "stripped_commas = listings['price'].str.replace(',','')\n",
    "stripped_dollar = stripped_commas.str.replace('$','')\n",
    "listings['price'] = stripped_dollar.astype('float') # converting values in the price column to 'float' datatype.\n",
    "\n",
    "# Mean price of the first 5 \n",
    "mean_price = listings.iloc[0:5]['price'].mean()\n",
    "print(mean_price)"
   ]
  },
  {
   "cell_type": "code",
   "execution_count": 6,
   "metadata": {},
   "outputs": [
    {
     "name": "stdout",
     "output_type": "stream",
     "text": [
      "71.8\n",
      "96.8\n",
      "96.0\n"
     ]
    }
   ],
   "source": [
    "#Initial code block so far before function\n",
    "listings = pd.read_csv('listings.csv')\n",
    "stripped_commas = listings['price'].str.replace(',','')\n",
    "stripped_dollar = stripped_commas.str.replace('$','')\n",
    "listings['price'] = stripped_dollar.astype('float')\n",
    "listings = listings.loc[np.random.permutation(len(listings))]\n",
    "\n",
    "# function to predict price using the k-nearest neighbor machine learning technique.\n",
    "\n",
    "def predict_price(new_listing):\n",
    "    temp_df = listings.copy()\n",
    "    temp_df['distance'] = temp_df['accommodates'].apply(lambda x:np.abs(x-new_listing))\n",
    "    temp_df = temp_df.sort_values('distance')\n",
    "    nearest_neighbors = temp_df.iloc[0:5]['price']\n",
    "    predicted_price = nearest_neighbors.mean()\n",
    "    return (predicted_price)\n",
    "acc_one = predict_price(1)\n",
    "acc_two = predict_price(2)\n",
    "acc_four = predict_price(4)\n",
    "print(acc_one)\n",
    "print(acc_two)\n",
    "print(acc_four)\n",
    "\n",
    "# We now have a function that can predict the price for any living space as long as we know the number of people it can accommodate. "
   ]
  },
  {
   "cell_type": "code",
   "execution_count": 7,
   "metadata": {},
   "outputs": [],
   "source": [
    "# Testing the quality of the model. train/test validation\n",
    "import pandas as pd\n",
    "import numpy as np\n",
    "dc_listings= pd.read_csv('listings.csv')\n",
    "stripped_commas = dc_listings['price'].str.replace(',','')\n",
    "stripped_dollar = stripped_commas.str.replace('$','')\n",
    "dc_listings['price'] = stripped_dollar.astype('float')\n",
    "train_df = dc_listings.iloc[0:2792]\n",
    "test_df = dc_listings.iloc[2792:]\n",
    "\n",
    "def predict_price(new_listings):\n",
    "    temp_df = train_df.copy()\n",
    "    temp_df['distance'] = temp_df['accommodates'].apply(lambda x:np.abs(x-new_listings))\n",
    "    temp_df = temp_df.sort_values('distance')\n",
    "    nearest_neighbor_prices = temp_df.iloc[0:5]['price']\n",
    "    predict_price = nearest_neighbor_prices.mean()\n",
    "    return(predict_price)\n",
    "test_df = test_df.copy()\n",
    "\n",
    "test_df['predicted_price'] = test_df['accommodates'].apply(predict_price)"
   ]
  },
  {
   "cell_type": "code",
   "execution_count": 8,
   "metadata": {},
   "outputs": [
    {
     "name": "stdout",
     "output_type": "stream",
     "text": [
      "56.29001074113856\n"
     ]
    }
   ],
   "source": [
    "# Error metric . Calculating the Mean Absolute Error.\n",
    "import numpy as np\n",
    "test_df['error'] = np.abs(test_df['predicted_price'] - test_df['price'])\n",
    "mae = test_df['error'].mean()\n",
    "print(mae)"
   ]
  },
  {
   "cell_type": "code",
   "execution_count": 9,
   "metadata": {},
   "outputs": [
    {
     "name": "stdout",
     "output_type": "stream",
     "text": [
      "18646.525370569278\n"
     ]
    }
   ],
   "source": [
    "# Error metric . Calculating Mean Squared Error\n",
    "test_df['squared_error'] = (test_df['predicted_price'] - test_df['price'])**2\n",
    "mse = test_df['squared_error'].mean()\n",
    "print(mse)"
   ]
  },
  {
   "cell_type": "code",
   "execution_count": 10,
   "metadata": {},
   "outputs": [
    {
     "name": "stdout",
     "output_type": "stream",
     "text": [
      "17358.63043944266\n"
     ]
    }
   ],
   "source": [
    "# Training another model.\n",
    "train_df = dc_listings.iloc[0:2790]\n",
    "test_df = dc_listings.iloc[2790:]\n",
    "\n",
    "def predict_price(new_listing):\n",
    "    temp_df = train_df.copy()\n",
    "    temp_df['distance'] = temp_df['bathrooms'].apply(lambda x:np.abs(x-new_listing))\n",
    "    temp_df = temp_df.sort_values('distance')\n",
    "    nearest_neighbors_prices = temp_df.iloc[0:5]['price']\n",
    "    predicted_price = nearest_neighbors_prices.mean()\n",
    "    return(predicted_price)\n",
    "\n",
    "test_df = test_df.copy()\n",
    "test_df['predicted_prices'] = test_df['bathrooms'].apply(lambda x: predict_price(x))\n",
    "test_df['squared_error'] = (test_df['predicted_prices'] - test_df['price'])**2\n",
    "mse = test_df['squared_error'].mean()\n",
    "print(mse)"
   ]
  },
  {
   "cell_type": "code",
   "execution_count": 11,
   "metadata": {},
   "outputs": [
    {
     "name": "stdout",
     "output_type": "stream",
     "text": [
      "131.7521553502737\n"
     ]
    }
   ],
   "source": [
    "# Error Metric - root Mean Squared Error\n",
    "test_df['predicted_price'] = test_df['bathrooms'].apply(lambda x:predict_price(x))\n",
    "test_df['squared_error'] = (test_df['predicted_price'] - test_df['price'])**2\n",
    "mse = test_df['squared_error'].mean()\n",
    "rmse = mse **(1/2)\n",
    "print(rmse)"
   ]
  },
  {
   "cell_type": "code",
   "execution_count": 12,
   "metadata": {},
   "outputs": [
    {
     "name": "stdout",
     "output_type": "stream",
     "text": [
      "accommodates            0\n",
      "bedrooms               21\n",
      "bathrooms              27\n",
      "beds                   11\n",
      "price                   0\n",
      "cleaning_fee         1388\n",
      "security_deposit     2297\n",
      "minimum_nights          0\n",
      "maximum_nights          0\n",
      "number_of_reviews       0\n",
      "dtype: int64\n"
     ]
    }
   ],
   "source": [
    "# dataset\n",
    "dc_listings = pd.read_csv('listings.csv')\n",
    "columns = ['host_response_rate','host_acceptance_rate','host_listings_count','latitude','longitude','city','zipcode','state','accommodates','room_type','bedrooms','bathrooms','beds','price','cleaning_fee','security_deposit','minimum_nights','maximum_nights','number_of_reviews']\n",
    "dc_listings = dc_listings[columns] \n",
    "# Multivariate K-nearest neighbor\n",
    "# Removing columns\n",
    "drop_columns = ['room_type','city','state','latitude','longitude','zipcode','host_response_rate','host_acceptance_rate','host_listings_count']\n",
    "dc_listings = dc_listings.drop(drop_columns, axis = 1)\n",
    "print(dc_listings.isnull().sum())"
   ]
  },
  {
   "cell_type": "code",
   "execution_count": 13,
   "metadata": {},
   "outputs": [
    {
     "name": "stdout",
     "output_type": "stream",
     "text": [
      "accommodates         0\n",
      "bedrooms             0\n",
      "bathrooms            0\n",
      "beds                 0\n",
      "price                0\n",
      "minimum_nights       0\n",
      "maximum_nights       0\n",
      "number_of_reviews    0\n",
      "dtype: int64\n"
     ]
    }
   ],
   "source": [
    "# Dropping the cleaning fee and security deposit columns\n",
    "dc_listings = dc_listings.drop(['cleaning_fee','security_deposit'], axis=1)\n",
    "# Dropping rows with null values.\n",
    "dc_listings = dc_listings.dropna(axis = 0)\n",
    "print(dc_listings.isnull().sum())"
   ]
  },
  {
   "cell_type": "code",
   "execution_count": 15,
   "metadata": {},
   "outputs": [
    {
     "name": "stdout",
     "output_type": "stream",
     "text": [
      "   accommodates  bedrooms  bathrooms      beds  price  minimum_nights  \\\n",
      "0      0.401366 -0.249467  -0.439151  0.297345  160.0       -0.341375   \n",
      "1      1.399275  2.129218   2.969147  1.141549  350.0       -0.065038   \n",
      "2     -1.095499 -0.249467   1.264998 -0.546858   50.0       -0.065038   \n",
      "\n",
      "   maximum_nights  number_of_reviews  \n",
      "0       -0.016573          -0.516709  \n",
      "1       -0.016603           1.706535  \n",
      "2       -0.016573          -0.482505  \n"
     ]
    }
   ],
   "source": [
    "# Formatting the price column\n",
    "stripped_commas = dc_listings['price'].str.replace(',','')\n",
    "stripped_dollar = stripped_commas.str.replace('$','')\n",
    "dc_listings['price'] = stripped_dollar.astype('float')\n",
    "\n",
    "# Normalizing columns\n",
    "normalized_listings = dc_listings - dc_listings.mean()\n",
    "normalized_listings = normalized_listings/(dc_listings.std())\n",
    "normalized_listings['price'] = dc_listings['price']\n",
    "print(normalized_listings.head(3))"
   ]
  },
  {
   "cell_type": "code",
   "execution_count": null,
   "metadata": {},
   "outputs": [],
   "source": [
    "# SCIKIT LEARN\n",
    "from sklearn.neighbors import KNeighborsRegressor\n",
    "knn = KNeighborsRegressor()"
   ]
  },
  {
   "cell_type": "code",
   "execution_count": 18,
   "metadata": {},
   "outputs": [
    {
     "name": "stdout",
     "output_type": "stream",
     "text": [
      "11827.805870307167\n",
      "108.7557164948453\n"
     ]
    }
   ],
   "source": [
    "# Machine Learning workflow using Scikit learn. using only 2 features(accommodates and bathrooms)\n",
    "\n",
    "from sklearn.neighbors import KNeighborsRegressor\n",
    "\n",
    "train_df = normalized_listings.iloc[0:2792]\n",
    "test_df = normalized_listings.iloc[2792:]\n",
    "train_columns = ['accommodates','bathrooms']\n",
    "\n",
    "# Instantiate Machine learning Model.\n",
    "knn = KNeighborsRegressor(n_neighbors = 5, algorithm = 'brute')\n",
    "\n",
    "# Fit model to data.\n",
    "knn.fit(train_df[train_columns], train_df['price'])\n",
    "\n",
    "# Use Model to make predictions.\n",
    "predictions = knn.predict(test_df[train_columns])\n",
    "\n",
    "# Calculating Error metric- MSE and RMSE\n",
    "from sklearn.metrics import mean_squared_error\n",
    "\n",
    "two_features_mse = mean_squared_error(test_df['price'], predictions)\n",
    "\n",
    "two_features_rmse = two_features_mse **(1/2)\n",
    "\n",
    "print(two_features_mse)\n",
    "print(two_features_rmse)\n"
   ]
  },
  {
   "cell_type": "code",
   "execution_count": 19,
   "metadata": {},
   "outputs": [
    {
     "name": "stdout",
     "output_type": "stream",
     "text": [
      "12416.681547212744\n",
      "111.43016444039174\n"
     ]
    }
   ],
   "source": [
    "# using More features.\n",
    "\n",
    "features = ['accommodates','bedrooms','bathrooms','number_of_reviews']\n",
    "from sklearn.neighbors import KNeighborsRegressor\n",
    "knn = KNeighborsRegressor(n_neighbors = 5, algorithm = 'brute')\n",
    "knn.fit(train_df[features], train_df['price'])\n",
    "four_predictions = knn.predict(test_df[features])\n",
    "four_mse = mean_squared_error(test_df['price'], four_predictions)\n",
    "four_rmse = four_mse**(1/2)\n",
    "print(four_mse)\n",
    "print(four_rmse)"
   ]
  },
  {
   "cell_type": "code",
   "execution_count": 20,
   "metadata": {},
   "outputs": [
    {
     "name": "stdout",
     "output_type": "stream",
     "text": [
      "[29285.383390216153, 17283.444254835038, 13347.651245101757, 12355.532423208191, 12416.681547212744, 11681.857761344965, 11284.895544565949, 11354.486010381115, 11134.24123934325, 11290.78202502844, 11193.720399778109, 11279.728740045506, 11391.457755249041, 11281.315119221752, 11329.574091770954, 11463.679420861774, 11356.823722301608, 11368.377097992949, 11511.220213728142, 11516.20888225256]\n"
     ]
    }
   ],
   "source": [
    "# Hyperparameter Optimization- Varying the K value to improve performance.\n",
    "\n",
    "features = ['accommodates','bedrooms','bathrooms','number_of_reviews']\n",
    "hyper_params = [x for x in range(1,21)]\n",
    "mse_values= list()\n",
    "\n",
    "for hp in hyper_params:\n",
    "    knn = KNeighborsRegressor(n_neighbors = hp, algorithm = 'brute')\n",
    "    knn.fit(train_df[features], train_df['price'])\n",
    "    predictions = knn.predict(test_df[features])\n",
    "    mse = mean_squared_error(test_df['price'], predictions)\n",
    "    mse_values.append(mse)\n",
    "    \n",
    "print(mse_values)\n"
   ]
  },
  {
   "cell_type": "code",
   "execution_count": 22,
   "metadata": {},
   "outputs": [
    {
     "data": {
      "image/png": "[encoded data removed]",
      "text/plain": [
       "<matplotlib.figure.Figure at 0x30e9610>"
      ]
     },
     "metadata": {},
     "output_type": "display_data"
    }
   ],
   "source": [
    "# Visualizing hyperparameter values.\n",
    "import matplotlib.pyplot as plt\n",
    "%matplotlib inline\n",
    "\n",
    "plt.scatter(hyper_params,mse_values)\n",
    "plt.show()"
   ]
  },
  {
   "cell_type": "code",
   "execution_count": 24,
   "metadata": {},
   "outputs": [
    {
     "data": {
      "image/png": "[encoded data removed]",
      "text/plain": [
       "<matplotlib.figure.Figure at 0x90f7510>"
      ]
     },
     "metadata": {},
     "output_type": "display_data"
    }
   ],
   "source": [
    "# Varying Features and hyperparameter\n",
    "hyper_params = [x for x in range(1,21)]\n",
    "mse_values = list()\n",
    "features = train_df.columns.tolist()\n",
    "features.remove('price')\n",
    "\n",
    "for hp in hyper_params:\n",
    "    knn = KNeighborsRegressor(n_neighbors = hp, algorithm = 'brute')\n",
    "    knn.fit(train_df[features], train_df['price'])\n",
    "    predictions = knn.predict(test_df[features])\n",
    "    mse = mean_squared_error(test_df['price'], predictions)\n",
    "    mse_values.append(mse)\n",
    "    \n",
    "plt.scatter(hyper_params, mse_values)\n",
    "plt.show()"
   ]
  },
  {
   "cell_type": "code",
   "execution_count": 25,
   "metadata": {},
   "outputs": [
    {
     "name": "stdout",
     "output_type": "stream",
     "text": [
      "{6: 11600.654563266338}\n",
      "{18: 11547.870159693257}\n"
     ]
    }
   ],
   "source": [
    "# Varying features and K values\n",
    "two_features = ['accommodates','bathrooms']\n",
    "three_features = ['accommodates','bathrooms','bedrooms']\n",
    "hyper_params = [x for x in range(1,21)]\n",
    "\n",
    "# Append the first model's MsE value to this list.\n",
    "two_mse_values = list()\n",
    "# Append the second Model MSE value to this list.\n",
    "three_mse_values = list()\n",
    "\n",
    "two_hyp_mse = dict()\n",
    "three_hyp_mse = dict()\n",
    "\n",
    "for hp in hyper_params:\n",
    "    knn = KNeighborsRegressor(n_neighbors = hp, algorithm = 'brute')\n",
    "    knn.fit(train_df[two_features], train_df['price'])\n",
    "    predictions = knn.predict(test_df[two_features])\n",
    "    mse = mean_squared_error(test_df['price'],predictions)\n",
    "    two_mse_values.append(mse)\n",
    "    \n",
    "two_lowest_mse = two_mse_values[0]\n",
    "two_lowest_k = 1\n",
    "\n",
    "for k, mse in enumerate(two_mse_values):\n",
    "    if mse < two_lowest_mse:\n",
    "        two_lowest_mse = mse\n",
    "        two_lowest_k = k+1\n",
    "\n",
    "for hp in hyper_params:\n",
    "    knn = KNeighborsRegressor(n_neighbors = hp, algorithm = 'brute')\n",
    "    knn.fit(train_df[three_features], train_df['price'])\n",
    "    predictions = knn.predict(test_df[three_features])\n",
    "    mse = mean_squared_error(test_df['price'],predictions)\n",
    "    three_mse_values.append(mse)\n",
    "    \n",
    "three_lowest_mse = three_mse_values[0]\n",
    "three_lowest_k = 1\n",
    "\n",
    "for k, mse in enumerate(three_mse_values):\n",
    "    if mse < three_lowest_mse:\n",
    "        three_lowest_mse = mse\n",
    "        three_lowest_k = k+1\n",
    "        \n",
    "two_hyp_mse[two_lowest_k] = two_lowest_mse\n",
    "three_hyp_mse[three_lowest_k] = three_lowest_mse\n",
    "\n",
    "print(two_hyp_mse)\n",
    "print(three_hyp_mse)"
   ]
  },
  {
   "cell_type": "code",
   "execution_count": null,
   "metadata": {},
   "outputs": [],
   "source": []
  }
 ],
 "metadata": {
  "kernelspec": {
   "display_name": "Python 3",
   "language": "python",
   "name": "python3"
  },
  "language_info": {
   "codemirror_mode": {
    "name": "ipython",
    "version": 3
   },
   "file_extension": ".py",
   "mimetype": "text/x-python",
   "name": "python",
   "nbconvert_exporter": "python",
   "pygments_lexer": "ipython3",
   "version": "3.6.4"
  }
 },
 "nbformat": 4,
 "nbformat_minor": 2
}
